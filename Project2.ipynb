{
 "cells": [
  {
   "cell_type": "markdown",
   "id": "a5f7ade4",
   "metadata": {},
   "source": [
    "# Movie Reccomendation System - Hunter Beesley"
   ]
  },
  {
   "cell_type": "markdown",
   "id": "69de367b",
   "metadata": {},
   "source": [
    "### Project Description"
   ]
  },
  {
   "cell_type": "markdown",
   "id": "ce441dd1",
   "metadata": {},
   "source": [
    "For this project, I wanted to create a program that will be able to reccomend movies to users that they have not watched yet. I want the program to reccomend movies that are similar to movies that the user has rated well in the past. In order to do so, I can use collaborative filtering, which is where the program will find other similar users who have rated items similar to the input user, and will then suggest items to the input user that the similar users have rated highly. "
   ]
  },
  {
   "cell_type": "markdown",
   "id": "62e1d350",
   "metadata": {},
   "source": [
    "###  Libraries"
   ]
  },
  {
   "cell_type": "markdown",
   "id": "86ad6b4a",
   "metadata": {},
   "source": [
    "I am starting this project by importing libraries that are frequently used in most data science projects: Numpy, Pandas, and Matplotlib. I am using Numpy and Pandas to create and manipulate arrays and dataframes. I will use Matplotlib to create visualizations for my data."
   ]
  },
  {
   "cell_type": "code",
   "execution_count": 1,
   "id": "3575c7db",
   "metadata": {},
   "outputs": [],
   "source": [
    "import numpy as np\n",
    "import pandas as pd\n",
    "import matplotlib.pyplot as plt"
   ]
  },
  {
   "cell_type": "markdown",
   "id": "3ee79ea8",
   "metadata": {},
   "source": [
    "### Importing Data"
   ]
  },
  {
   "cell_type": "markdown",
   "id": "a5d74e1c",
   "metadata": {},
   "source": [
    "The data that I am using for this project is retrieved from the MovieLens 20M dataset, which can be found at https://www.kaggle.com/datasets/grouplens/movielens-20m-dataset. This dataset contains two csv files, one of which has data for movies (titles, genres, and movie IDs) and the other of which has data for ratings (ratings {out of 5}, user IDs, and timestamps)."
   ]
  },
  {
   "cell_type": "code",
   "execution_count": 2,
   "id": "636fa617",
   "metadata": {},
   "outputs": [],
   "source": [
    "movies = pd.read_csv(\"archive-2/movie.csv\")\n",
    "ratings = pd.read_csv(\"archive-2/rating.csv\")"
   ]
  },
  {
   "cell_type": "markdown",
   "id": "1f4235f7",
   "metadata": {},
   "source": [
    "### Understanding the Data"
   ]
  },
  {
   "cell_type": "markdown",
   "id": "f8339d24",
   "metadata": {},
   "source": [
    "Before I start preprocessing the data, I will first look at the head of the movies and ratings dataframes to get a better understanding of how the data is structured."
   ]
  },
  {
   "cell_type": "code",
   "execution_count": 3,
   "id": "317ccb0f",
   "metadata": {},
   "outputs": [
    {
     "name": "stdout",
     "output_type": "stream",
     "text": [
      "Movie Data:\n",
      "    movieId                               title  \\\n",
      "0        1                    Toy Story (1995)   \n",
      "1        2                      Jumanji (1995)   \n",
      "2        3             Grumpier Old Men (1995)   \n",
      "3        4            Waiting to Exhale (1995)   \n",
      "4        5  Father of the Bride Part II (1995)   \n",
      "\n",
      "                                        genres  \n",
      "0  Adventure|Animation|Children|Comedy|Fantasy  \n",
      "1                   Adventure|Children|Fantasy  \n",
      "2                               Comedy|Romance  \n",
      "3                         Comedy|Drama|Romance  \n",
      "4                                       Comedy  \n",
      "Ratings Data:\n",
      "    userId  movieId  rating            timestamp\n",
      "0       1        2     3.5  2005-04-02 23:53:47\n",
      "1       1       29     3.5  2005-04-02 23:31:16\n",
      "2       1       32     3.5  2005-04-02 23:33:39\n",
      "3       1       47     3.5  2005-04-02 23:32:07\n",
      "4       1       50     3.5  2005-04-02 23:29:40\n"
     ]
    }
   ],
   "source": [
    "print(\"Movie Data:\\n\",movies.head())\n",
    "print(\"Ratings Data:\\n\",ratings.head())"
   ]
  },
  {
   "cell_type": "markdown",
   "id": "4a0f6a43",
   "metadata": {},
   "source": [
    "Here, we can see that each movie in the movies dataframe has an ID (which is an integer), a title (which is a string), and a list of genres (which is also a string). In the ratings dataframe, each rating has an associated userID (integer), movieId(integer), rating (float), and timestamp (string). \n",
    "\n",
    "To make movie reccomendations to a user, I will be relying on other ratings that other similar users made. I will not be making reccomendations based on how similar the movies themselves are. Therefore, I will not need the genres column in the movies dataframe. I won't be making reccomendations based on time either, so I will drop the timestamp column from the ratings dataframe. "
   ]
  },
  {
   "cell_type": "code",
   "execution_count": 4,
   "id": "866b9a21",
   "metadata": {},
   "outputs": [
    {
     "name": "stdout",
     "output_type": "stream",
     "text": [
      "Movie Data:\n",
      "    movieId                               title\n",
      "0        1                    Toy Story (1995)\n",
      "1        2                      Jumanji (1995)\n",
      "2        3             Grumpier Old Men (1995)\n",
      "3        4            Waiting to Exhale (1995)\n",
      "4        5  Father of the Bride Part II (1995)\n",
      "Ratings Data:\n",
      "    userId  movieId  rating\n",
      "0       1        2     3.5\n",
      "1       1       29     3.5\n",
      "2       1       32     3.5\n",
      "3       1       47     3.5\n",
      "4       1       50     3.5\n"
     ]
    }
   ],
   "source": [
    "del(movies['genres'])\n",
    "del(ratings['timestamp'])\n",
    "print(\"Movie Data:\\n\",movies.head())\n",
    "print(\"Ratings Data:\\n\",ratings.head())"
   ]
  },
  {
   "cell_type": "markdown",
   "id": "3d864c9a",
   "metadata": {},
   "source": [
    "We can take a look at the number of rows and columns in each of our dataframe:"
   ]
  },
  {
   "cell_type": "code",
   "execution_count": 5,
   "id": "0f26f42f",
   "metadata": {},
   "outputs": [
    {
     "name": "stdout",
     "output_type": "stream",
     "text": [
      "Movies dataframe shape:  (27278, 2)\n",
      "Ratings dataframe shape:  (20000263, 3)\n"
     ]
    }
   ],
   "source": [
    "print(\"Movies dataframe shape: \", movies.shape)\n",
    "print(\"Ratings dataframe shape: \", ratings.shape)"
   ]
  },
  {
   "cell_type": "markdown",
   "id": "3b05f84f",
   "metadata": {},
   "source": [
    "The movies dataframe has a lot more observations than the movie dataframe. The reason for this is because there are multiple users who have left ratings for the same movie."
   ]
  },
  {
   "cell_type": "markdown",
   "id": "36061436",
   "metadata": {},
   "source": [
    "### Visualizing the Data"
   ]
  },
  {
   "cell_type": "markdown",
   "id": "6294e6a6",
   "metadata": {},
   "source": [
    "To understand the data even further, we can look at a few visualizations. Let's start by looking at the distribution of user ratings:"
   ]
  },
  {
   "cell_type": "code",
   "execution_count": 6,
   "id": "ed0a2108",
   "metadata": {},
   "outputs": [
    {
     "data": {
      "image/png": "[encoded data removed]",
      "text/plain": [
       "<Figure size 432x288 with 1 Axes>"
      ]
     },
     "metadata": {
      "needs_background": "light"
     },
     "output_type": "display_data"
    }
   ],
   "source": [
    "rating_dist = plt.hist(ratings['rating'], bins = 5)\n",
    "plt.xlabel(\"Rating\")\n",
    "plt.ylabel(\"Frequency\")\n",
    "plt.title(\"User Ratings Distribution\")\n",
    "plt.show()"
   ]
  },
  {
   "cell_type": "markdown",
   "id": "9ad93ac9",
   "metadata": {},
   "source": [
    "We can also group the movies in order to visualize the distribution of the mean score of movies:"
   ]
  },
  {
   "cell_type": "code",
   "execution_count": 7,
   "id": "f139160b",
   "metadata": {},
   "outputs": [
    {
     "data": {
      "image/png": "[encoded data removed]",
      "text/plain": [
       "<Figure size 432x288 with 1 Axes>"
      ]
     },
     "metadata": {
      "needs_background": "light"
     },
     "output_type": "display_data"
    }
   ],
   "source": [
    "mean_rating_mv = ratings.groupby(\"movieId\")[\"rating\"].mean().reset_index(name = \"rating\")\n",
    "mv_ratings_dist = plt.hist(mean_rating_mv[\"rating\"], bins = 5)\n",
    "plt.xlabel(\"Rating\")\n",
    "plt.ylabel(\"Frequency\")\n",
    "plt.title(\"Movie Average Ratings Distribution\")\n",
    "plt.show()"
   ]
  },
  {
   "cell_type": "markdown",
   "id": "444dbcb2",
   "metadata": {},
   "source": [
    "We can look at the most rated movies in the dataset:"
   ]
  },
  {
   "cell_type": "code",
   "execution_count": 8,
   "id": "b5334c9e",
   "metadata": {},
   "outputs": [
    {
     "data": {
      "image/png": "[encoded data removed]",
      "text/plain": [
       "<Figure size 432x288 with 1 Axes>"
      ]
     },
     "metadata": {
      "needs_background": "light"
     },
     "output_type": "display_data"
    }
   ],
   "source": [
    "ratings_by_mv = ratings.groupby(\"movieId\")[\"rating\"].count().reset_index(name = \"Number of ratings\").sort_values(by=\"Number of ratings\", ascending = False)\n",
    "top_5 = ratings_by_mv.reset_index()[0:5]\n",
    "top_5['movieId'] = top_5['movieId'].astype('string')\n",
    "plt.bar(x=top_5['movieId'], height=top_5['Number of ratings'])\n",
    "plt.xlabel(\"Movie ID\")\n",
    "plt.ylabel(\"Ratings Count\")\n",
    "plt.title(\"Top 5 Most Rated Movies\")\n",
    "plt.show()"
   ]
  },
  {
   "cell_type": "markdown",
   "id": "a344090b",
   "metadata": {},
   "source": [
    "And we can look at the correlation between the number of ratings a movie has and it's average rating:"
   ]
  },
  {
   "cell_type": "code",
   "execution_count": 9,
   "id": "226b2442",
   "metadata": {},
   "outputs": [
    {
     "data": {
      "image/png": "[encoded data removed]",
      "text/plain": [
       "<Figure size 432x288 with 1 Axes>"
      ]
     },
     "metadata": {
      "needs_background": "light"
     },
     "output_type": "display_data"
    }
   ],
   "source": [
    "ratings_score = ratings.groupby('movieId') \\\n",
    "       .agg({'movieId':'size', 'rating':'mean'}) \\\n",
    "       .rename(columns={'movieId':'count','rating':'mean_rating'}) \\\n",
    "       .reset_index()\n",
    "ratings_score.sort_values(by=\"count\", ascending = False)\n",
    "num = len(ratings_score)//200\n",
    "ratings_score = ratings_score[:num]\n",
    "plt.scatter(ratings_score['count'], ratings_score['mean_rating'])\n",
    "plt.xlabel(\"Number of Ratings (Top \" + str(num) + \" movies by number of ratings)\")\n",
    "plt.ylabel(\"Average Rating\")\n",
    "plt.title(\"Number of Ratings vs Average Rating\")\n",
    "plt.show()"
   ]
  },
  {
   "cell_type": "markdown",
   "id": "0da54f79",
   "metadata": {},
   "source": [
    "### Preprocessing"
   ]
  },
  {
   "cell_type": "markdown",
   "id": "11d5bad8",
   "metadata": {},
   "source": [
    "For this project, I will need to reduce the amount of data that is in my ratings dataset for memory purposes. As you will see later, I will use a sparse matrix to create a representation of my data that requires less memory, but I will still need to take less observations here in order to call certain functions on my dataframe. \n",
    "\n",
    "Here, I will be selecting 2% of the dataset (roughly 400,000 observations) for further analysis. First, I sort the ratings data in descending order based on the number of ratings associated with the userId (essentially, movie ratings made by a user with more total ratings will appear first)."
   ]
  },
  {
   "cell_type": "code",
   "execution_count": 10,
   "id": "ff396ff2",
   "metadata": {},
   "outputs": [
    {
     "name": "stdout",
     "output_type": "stream",
     "text": [
      "Ratings dataframe shape:  (400005, 3)\n"
     ]
    }
   ],
   "source": [
    "user_counts = ratings['userId'].value_counts()\n",
    "ratings = ratings.loc[ratings['userId'].isin(user_counts.index)].sort_values(by='userId', key=lambda x: x.map(user_counts), ascending=False)\n",
    "ratings = ratings[:(len(ratings)//50)]\n",
    "print(\"Ratings dataframe shape: \",ratings.shape)"
   ]
  },
  {
   "cell_type": "markdown",
   "id": "a72d3ebc",
   "metadata": {},
   "source": [
    "Now, I will create a new dataframe called ratings_user. In this dataframe, each row will correspond to a user and each column will correspond to a movie. If a user has rated a certain movie, the cell that corresponds to that user and movie will be filled with the user's rating for the movie. If they have not rated it, the cell will be filled with 0. This dataframe is necessary for calculating the similarities between users."
   ]
  },
  {
   "cell_type": "code",
   "execution_count": 11,
   "id": "bea442cd",
   "metadata": {},
   "outputs": [
    {
     "data": {
      "text/html": [
       "<div>\n",
       "<style scoped>\n",
       "    .dataframe tbody tr th:only-of-type {\n",
       "        vertical-align: middle;\n",
       "    }\n",
       "\n",
       "    .dataframe tbody tr th {\n",
       "        vertical-align: top;\n",
       "    }\n",
       "\n",
       "    .dataframe thead th {\n",
       "        text-align: right;\n",
       "    }\n",
       "</style>\n",
       "<table border=\"1\" class=\"dataframe\">\n",
       "  <thead>\n",
       "    <tr style=\"text-align: right;\">\n",
       "      <th>movieId</th>\n",
       "      <th>1</th>\n",
       "      <th>2</th>\n",
       "      <th>3</th>\n",
       "      <th>4</th>\n",
       "      <th>5</th>\n",
       "      <th>6</th>\n",
       "      <th>7</th>\n",
       "      <th>8</th>\n",
       "      <th>9</th>\n",
       "      <th>10</th>\n",
       "      <th>...</th>\n",
       "      <th>130746</th>\n",
       "      <th>130804</th>\n",
       "      <th>130828</th>\n",
       "      <th>130842</th>\n",
       "      <th>130850</th>\n",
       "      <th>130852</th>\n",
       "      <th>130900</th>\n",
       "      <th>131017</th>\n",
       "      <th>131172</th>\n",
       "      <th>131180</th>\n",
       "    </tr>\n",
       "    <tr>\n",
       "      <th>userId</th>\n",
       "      <th></th>\n",
       "      <th></th>\n",
       "      <th></th>\n",
       "      <th></th>\n",
       "      <th></th>\n",
       "      <th></th>\n",
       "      <th></th>\n",
       "      <th></th>\n",
       "      <th></th>\n",
       "      <th></th>\n",
       "      <th></th>\n",
       "      <th></th>\n",
       "      <th></th>\n",
       "      <th></th>\n",
       "      <th></th>\n",
       "      <th></th>\n",
       "      <th></th>\n",
       "      <th></th>\n",
       "      <th></th>\n",
       "      <th></th>\n",
       "      <th></th>\n",
       "    </tr>\n",
       "  </thead>\n",
       "  <tbody>\n",
       "    <tr>\n",
       "      <th>903</th>\n",
       "      <td>4.0</td>\n",
       "      <td>4.0</td>\n",
       "      <td>2.0</td>\n",
       "      <td>2.0</td>\n",
       "      <td>3.0</td>\n",
       "      <td>4.0</td>\n",
       "      <td>3.0</td>\n",
       "      <td>3.0</td>\n",
       "      <td>2.0</td>\n",
       "      <td>1.0</td>\n",
       "      <td>...</td>\n",
       "      <td>0.0</td>\n",
       "      <td>0.0</td>\n",
       "      <td>0.0</td>\n",
       "      <td>0.0</td>\n",
       "      <td>0.0</td>\n",
       "      <td>0.0</td>\n",
       "      <td>0.0</td>\n",
       "      <td>0.0</td>\n",
       "      <td>0.0</td>\n",
       "      <td>0.0</td>\n",
       "    </tr>\n",
       "    <tr>\n",
       "      <th>2261</th>\n",
       "      <td>3.0</td>\n",
       "      <td>3.5</td>\n",
       "      <td>2.5</td>\n",
       "      <td>0.0</td>\n",
       "      <td>1.0</td>\n",
       "      <td>3.5</td>\n",
       "      <td>1.5</td>\n",
       "      <td>0.0</td>\n",
       "      <td>0.0</td>\n",
       "      <td>3.0</td>\n",
       "      <td>...</td>\n",
       "      <td>0.0</td>\n",
       "      <td>0.0</td>\n",
       "      <td>0.0</td>\n",
       "      <td>0.0</td>\n",
       "      <td>0.0</td>\n",
       "      <td>0.0</td>\n",
       "      <td>0.0</td>\n",
       "      <td>0.0</td>\n",
       "      <td>0.0</td>\n",
       "      <td>0.0</td>\n",
       "    </tr>\n",
       "    <tr>\n",
       "      <th>3907</th>\n",
       "      <td>4.0</td>\n",
       "      <td>2.5</td>\n",
       "      <td>0.0</td>\n",
       "      <td>0.0</td>\n",
       "      <td>0.0</td>\n",
       "      <td>4.0</td>\n",
       "      <td>2.0</td>\n",
       "      <td>0.0</td>\n",
       "      <td>0.0</td>\n",
       "      <td>4.0</td>\n",
       "      <td>...</td>\n",
       "      <td>0.0</td>\n",
       "      <td>0.0</td>\n",
       "      <td>0.0</td>\n",
       "      <td>0.0</td>\n",
       "      <td>0.0</td>\n",
       "      <td>0.0</td>\n",
       "      <td>0.0</td>\n",
       "      <td>0.0</td>\n",
       "      <td>0.0</td>\n",
       "      <td>0.0</td>\n",
       "    </tr>\n",
       "    <tr>\n",
       "      <th>4222</th>\n",
       "      <td>5.0</td>\n",
       "      <td>0.0</td>\n",
       "      <td>3.5</td>\n",
       "      <td>0.0</td>\n",
       "      <td>0.0</td>\n",
       "      <td>0.0</td>\n",
       "      <td>0.0</td>\n",
       "      <td>0.0</td>\n",
       "      <td>0.0</td>\n",
       "      <td>3.0</td>\n",
       "      <td>...</td>\n",
       "      <td>0.0</td>\n",
       "      <td>0.0</td>\n",
       "      <td>0.0</td>\n",
       "      <td>0.0</td>\n",
       "      <td>0.0</td>\n",
       "      <td>0.0</td>\n",
       "      <td>0.0</td>\n",
       "      <td>0.0</td>\n",
       "      <td>0.0</td>\n",
       "      <td>0.0</td>\n",
       "    </tr>\n",
       "    <tr>\n",
       "      <th>4358</th>\n",
       "      <td>5.0</td>\n",
       "      <td>3.0</td>\n",
       "      <td>1.0</td>\n",
       "      <td>0.0</td>\n",
       "      <td>0.0</td>\n",
       "      <td>5.0</td>\n",
       "      <td>3.0</td>\n",
       "      <td>0.0</td>\n",
       "      <td>3.0</td>\n",
       "      <td>5.0</td>\n",
       "      <td>...</td>\n",
       "      <td>0.0</td>\n",
       "      <td>0.0</td>\n",
       "      <td>0.0</td>\n",
       "      <td>0.0</td>\n",
       "      <td>0.0</td>\n",
       "      <td>0.0</td>\n",
       "      <td>0.0</td>\n",
       "      <td>0.0</td>\n",
       "      <td>0.0</td>\n",
       "      <td>0.0</td>\n",
       "    </tr>\n",
       "  </tbody>\n",
       "</table>\n",
       "<p>5 rows × 21027 columns</p>\n",
       "</div>"
      ],
      "text/plain": [
       "movieId  1       2       3       4       5       6       7       8       \\\n",
       "userId                                                                    \n",
       "903         4.0     4.0     2.0     2.0     3.0     4.0     3.0     3.0   \n",
       "2261        3.0     3.5     2.5     0.0     1.0     3.5     1.5     0.0   \n",
       "3907        4.0     2.5     0.0     0.0     0.0     4.0     2.0     0.0   \n",
       "4222        5.0     0.0     3.5     0.0     0.0     0.0     0.0     0.0   \n",
       "4358        5.0     3.0     1.0     0.0     0.0     5.0     3.0     0.0   \n",
       "\n",
       "movieId  9       10      ...  130746  130804  130828  130842  130850  130852  \\\n",
       "userId                   ...                                                   \n",
       "903         2.0     1.0  ...     0.0     0.0     0.0     0.0     0.0     0.0   \n",
       "2261        0.0     3.0  ...     0.0     0.0     0.0     0.0     0.0     0.0   \n",
       "3907        0.0     4.0  ...     0.0     0.0     0.0     0.0     0.0     0.0   \n",
       "4222        0.0     3.0  ...     0.0     0.0     0.0     0.0     0.0     0.0   \n",
       "4358        3.0     5.0  ...     0.0     0.0     0.0     0.0     0.0     0.0   \n",
       "\n",
       "movieId  130900  131017  131172  131180  \n",
       "userId                                   \n",
       "903         0.0     0.0     0.0     0.0  \n",
       "2261        0.0     0.0     0.0     0.0  \n",
       "3907        0.0     0.0     0.0     0.0  \n",
       "4222        0.0     0.0     0.0     0.0  \n",
       "4358        0.0     0.0     0.0     0.0  \n",
       "\n",
       "[5 rows x 21027 columns]"
      ]
     },
     "execution_count": 11,
     "metadata": {},
     "output_type": "execute_result"
    }
   ],
   "source": [
    "ratings_user = ratings[['userId', 'movieId', 'rating']].pivot(index='userId', columns='movieId', values = 'rating').fillna(0)\n",
    "ratings_user.head()"
   ]
  },
  {
   "cell_type": "markdown",
   "id": "d5d1d446",
   "metadata": {},
   "source": [
    "Because of the amount of movies in this dataset, most rows in the ratings_user dataframe will be filled with 0's since the users haven't watched most of the movies. This creates a lot of wasted space and memory. To save memory, I will convert the ratings_user dataframe into a sparse matrix and store the result in spr_rat. I do this using the scipy library. A sparse matrix consists of pairs of indices and values. The indices represent the row and column in the initial matrix where there is a nonzero entry, which is represented by the value.   "
   ]
  },
  {
   "cell_type": "code",
   "execution_count": 12,
   "id": "fda9e5a8",
   "metadata": {},
   "outputs": [],
   "source": [
    "from scipy import sparse\n",
    "spr_rat = sparse.csr_matrix(ratings_user)"
   ]
  },
  {
   "cell_type": "markdown",
   "id": "cd139f56",
   "metadata": {},
   "source": [
    "Before I start calculating the similarities between users, I must first normalize the data. The reason I need to do this is because each person will have their different rating scales, which means they might give a different rating for a movie that they consider to be good than other users who also think that movie is good. In order to calculate the similarities between users based on their ratings, the rating should be standardized. To do this, I can use sklearn to normalize the ratings. I will store the normalized sparse matrix in rat_norm."
   ]
  },
  {
   "cell_type": "code",
   "execution_count": 13,
   "id": "6717b1bc",
   "metadata": {},
   "outputs": [],
   "source": [
    "from sklearn.preprocessing import normalize\n",
    "rat_norm = normalize(spr_rat, norm='l1', axis=1)"
   ]
  },
  {
   "cell_type": "markdown",
   "id": "c1724672",
   "metadata": {},
   "source": [
    "### Calculating Similarity"
   ]
  },
  {
   "cell_type": "markdown",
   "id": "5a3967e7",
   "metadata": {},
   "source": [
    "Now that I have finished preprocessing the data, I can calculate the similarities between users based on their ratings. \n",
    "\n",
    "The method that I will be using to calculate the similarity is cosine similarity. Here is a detailed description of cosine similarity: https://en.wikipedia.org/wiki/Cosine_similarity. To calculate cosine similarity, I will be using the method provided by sklearn and I'll store the results as a sparse matrix in user_sim."
   ]
  },
  {
   "cell_type": "code",
   "execution_count": 14,
   "id": "f4b0403c",
   "metadata": {},
   "outputs": [],
   "source": [
    "from sklearn.metrics.pairwise import cosine_similarity\n",
    "user_sim = cosine_similarity(rat_norm, dense_output = False)"
   ]
  },
  {
   "cell_type": "markdown",
   "id": "9f6cb6e1",
   "metadata": {},
   "source": [
    "For each user, I will now take their similarities and select the most similar users. In the code below, I select the 4 most similar users for each user (if there are 4 similar users). I create a list of their ID's and append the list to similar_users. At the end, I print out the first 5 similar user lists for reference."
   ]
  },
  {
   "cell_type": "code",
   "execution_count": 15,
   "id": "aca372c8",
   "metadata": {},
   "outputs": [
    {
     "data": {
      "text/plain": [
       "[array([81, 78, 74,  0], dtype=int32),\n",
       " array([26, 79,  1, 86], dtype=int32),\n",
       " array([ 22,  19, 113,   2], dtype=int32),\n",
       " array([73,  6,  3, 80], dtype=int32),\n",
       " array([99, 30, 60,  4], dtype=int32)]"
      ]
     },
     "execution_count": 15,
     "metadata": {},
     "output_type": "execute_result"
    }
   ],
   "source": [
    "similar_users = []\n",
    "row_start = user_sim.indptr[:-1]\n",
    "row_end = user_sim.indptr[1:]\n",
    "for s,e in zip(row_start, row_end):\n",
    "    row_elements = 4 if 4 < (e - s) else (e - s)\n",
    "    similar_users.append(user_sim.indices[s + np.argpartition(user_sim.data[s:e], -row_elements)[-row_elements:]])\n",
    "similar_users[0:5]"
   ]
  },
  {
   "cell_type": "markdown",
   "id": "4360644c",
   "metadata": {},
   "source": [
    "In these lists, some users have themself listed as a similar user. To prevent this, I loop through the list and remove the user from it's own similarity list (if necessary). I now print out the first 5 user similarity lists for reference against the previous output."
   ]
  },
  {
   "cell_type": "code",
   "execution_count": 16,
   "id": "a73adc40",
   "metadata": {},
   "outputs": [
    {
     "data": {
      "text/plain": [
       "[array([81, 78, 74], dtype=int32),\n",
       " array([26, 79, 86], dtype=int32),\n",
       " array([ 22,  19, 113], dtype=int32),\n",
       " array([73,  6, 80], dtype=int32),\n",
       " array([99, 30, 60], dtype=int32)]"
      ]
     },
     "execution_count": 16,
     "metadata": {},
     "output_type": "execute_result"
    }
   ],
   "source": [
    "for i in range(0, len(similar_users)):\n",
    "    similar_users[i] = similar_users[i][similar_users[i] != i]\n",
    "similar_users[0:5]"
   ]
  },
  {
   "cell_type": "markdown",
   "id": "801368bc",
   "metadata": {},
   "source": [
    "I still need to modify these lists because currently, the list entries correpsond to indices of the users rather than their userId values. I loop through the list and add a dictionary entry to similar_user_id, where the key is a userId and the value is a list of userIds that correspond to the similar users."
   ]
  },
  {
   "cell_type": "code",
   "execution_count": 17,
   "id": "0e7eafdc",
   "metadata": {
    "scrolled": true
   },
   "outputs": [],
   "source": [
    "similar_user_id = {}\n",
    "for key, val in enumerate(similar_users):\n",
    "    for i in range(len(val)):\n",
    "        val[i] = ratings_user.index[val[i]]\n",
    "    similar_user_id[ratings_user.index[key]] = val"
   ]
  },
  {
   "cell_type": "markdown",
   "id": "f9e9486b",
   "metadata": {},
   "source": [
    "### Creating Reccomendations"
   ]
  },
  {
   "cell_type": "markdown",
   "id": "94ea8797",
   "metadata": {},
   "source": [
    "Now that I have calculated the most similar users to each user, I can start making movie reccomendations to users based on the movies that similar users like. I create a function that takes in a user_id as an argument. For this user, it will collect the list of similar users. Then, for each similar user, the function will find the movies rated by that user, take the ones with a rating of 3.5 or above, and will randomly sample 3 of them and append them to the list of reccomendations. At the end, the function returns the list of movie reccomendations."
   ]
  },
  {
   "cell_type": "code",
   "execution_count": 18,
   "id": "048b21b0",
   "metadata": {},
   "outputs": [],
   "source": [
    "def reccomend_movies(user_id):\n",
    "    similars = similar_user_id[user_id]\n",
    "    reccomend = []\n",
    "    for usr in similars:\n",
    "        movie_list = ratings[(ratings['userId'] == usr)&(ratings['userId'] != user_id)]\n",
    "        movies_good = movie_list[(movie_list['rating'] >= 3.5)].sample(n=3)\n",
    "        reccomend.append(movies[(movies['movieId'].isin(movies_good['movieId']))]['title'].values.tolist())\n",
    "    return reccomend"
   ]
  },
  {
   "cell_type": "markdown",
   "id": "d3031a9d",
   "metadata": {},
   "source": [
    "Here is a working example of the function providing reccomendations to a user:"
   ]
  },
  {
   "cell_type": "code",
   "execution_count": 19,
   "id": "7c3c5f7e",
   "metadata": {},
   "outputs": [
    {
     "name": "stdout",
     "output_type": "stream",
     "text": [
      "Reccomendations for user 903:\n",
      "\n",
      "Paper, The (1994)\n",
      "Cabaret (1972)\n",
      "Vanishing, The (Spoorloos) (1988)\n",
      "While You Were Sleeping (1995)\n",
      "Wild Things (1998)\n",
      "Conformist, The (Conformista, Il) (1970)\n",
      "Little Buddha (1993)\n",
      "12 Angry Men (1957)\n",
      "Chariots of Fire (1981)\n"
     ]
    }
   ],
   "source": [
    "print(\"Reccomendations for user \" + str(ratings_user.index[0]) + \":\\n\")\n",
    "for x in reccomend_movies(ratings_user.index[0]):\n",
    "        for el in x:\n",
    "            print(el)"
   ]
  },
  {
   "cell_type": "markdown",
   "id": "041ee77a",
   "metadata": {},
   "source": [
    "### Final Thoughts"
   ]
  },
  {
   "cell_type": "markdown",
   "id": "37f7fffb",
   "metadata": {},
   "source": [
    "I really enjoyed working on this project. Reccomendation systems seem really interesting to me, but this is my first time actually getting to implement one. Some of the concepts were challenging to grasp, but in the end I was able to create a system that produces personalized reccomendations for each user.\n",
    "\n",
    "I am hoping to do more projects related to reccomendation systems in the future. Next time I will probably want to explore content based filtering rather than collaborative filtering, and then maybe I could possibly find a way to get even better reccomendations by combining the two."
   ]
  }
 ],
 "metadata": {
  "kernelspec": {
   "display_name": "Python 3 (ipykernel)",
   "language": "python",
   "name": "python3"
  },
  "language_info": {
   "codemirror_mode": {
    "name": "ipython",
    "version": 3
   },
   "file_extension": ".py",
   "mimetype": "text/x-python",
   "name": "python",
   "nbconvert_exporter": "python",
   "pygments_lexer": "ipython3",
   "version": "3.9.12"
  }
 },
 "nbformat": 4,
 "nbformat_minor": 5
}
